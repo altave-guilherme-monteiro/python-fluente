{
 "cells": [
  {
   "cell_type": "markdown",
   "metadata": {},
   "source": [
    "## Resumo do Capítulo"
   ]
  },
  {
   "cell_type": "markdown",
   "metadata": {},
   "source": [
    "Ao implementar métodos especiais, nossos objetos podem se comportar como tipos embutidos, permitindo o estilo de programação expressivo que a comunidade cconsidera pythônico.\n",
    "\n",
    "Uma exigência básica para um objeto Python é fornecer strings representando a si mesmo que possam ser usadas, uma para depuração e registro _(log)_, outra para apresentar aos usuários finais. É para isso que os métodos especiais ```__repr__``` e ```__str__``` existem no modelo de dados.\n",
    "\n",
    "Emular sequências é um dos usos mais comuns dos métodos especiais, como mostrado com o exemplo do ```FrenchDeck```.\n",
    "\n",
    "Graças à sobrecarga de operadores, o Python oferece uma rica seleção de tipos numéricos, desde os tipos embutidos até ```decimal.Decimal``` e ```fractions.Fraction```, todos eles suportando operadores aritméticos infixos."
   ]
  },
  {
   "cell_type": "markdown",
   "metadata": {},
   "source": [
    "### Um baralho pythônico"
   ]
  },
  {
   "cell_type": "code",
   "execution_count": 26,
   "metadata": {},
   "outputs": [],
   "source": [
    "import collections\n",
    "from random import choice\n",
    "\n",
    "Card = collections.namedtuple('Card', ['rank', 'suit'])\n",
    "\n",
    "class FrenchDeck:\n",
    "    ranks = [str(n) for n in range(2, 11)] + list('JQKA')\n",
    "    suits = 'spades diamonds clubs hearts'.split()\n",
    "\n",
    "    def __init__(self):\n",
    "        self._cards = [Card(rank, suit) for suit in self.suits for rank in self.ranks]\n",
    "\n",
    "    def __len__(self):\n",
    "            return len(self._cards)\n",
    "\n",
    "    def __getitem__(self, position):\n",
    "         return self._cards[position]"
   ]
  },
  {
   "cell_type": "markdown",
   "metadata": {},
   "source": [
    "Usamos o  ```collections.namedtuple``` para criar classes de objetos que apenas agrupam atributos (neste caso, 'rank' e 'suit'). Já a classe ```FrenchDeck``` agrupa o conjunto de cartas em uma coleção padrão. Como ela possui os métodos ```__len()__``` e ```__getitem__```, rela responde às função ```len()``` e pode ser acessada por chaves ```[]```."
   ]
  },
  {
   "cell_type": "code",
   "execution_count": 27,
   "metadata": {},
   "outputs": [
    {
     "name": "stdout",
     "output_type": "stream",
     "text": [
      "Card(rank='2', suit='spades')\n",
      "52\n"
     ]
    }
   ],
   "source": [
    "deck = FrenchDeck()\n",
    "print(deck[0])\n",
    "print(len(deck))"
   ]
  },
  {
   "cell_type": "markdown",
   "metadata": {},
   "source": [
    "Como nossa classe ```FrenchDeck``` já se comporta como uma coleção, ela interage facilmente com outras funções que interagem com sequências genéricas, como a função ```random.choice```.\n",
    "\n",
    "Podemos usá-la em uma instância de ```FrenchDeck```:"
   ]
  },
  {
   "cell_type": "code",
   "execution_count": 28,
   "metadata": {},
   "outputs": [
    {
     "name": "stdout",
     "output_type": "stream",
     "text": [
      "Card(rank='K', suit='diamonds')\n",
      "Card(rank='K', suit='spades')\n",
      "Card(rank='Q', suit='diamonds')\n"
     ]
    }
   ],
   "source": [
    "print(choice(deck))\n",
    "print(choice(deck))\n",
    "print(choice(deck))"
   ]
  },
  {
   "cell_type": "markdown",
   "metadata": {},
   "source": [
    "Usando métodos especiais no contexto do Modelo de Dados do Python, observamos duas vantagens:\n",
    "\n",
    "- Operações comuns não precisam de nomes arbitŕarios\n",
    "- Podemos aproveitar a rica biblioteca padrão do Python e evitar reinventar a roda\n",
    "\n",
    "Nosso baralho também suporta fatiamento automático graças ao operador ```[]```."
   ]
  },
  {
   "cell_type": "code",
   "execution_count": 29,
   "metadata": {},
   "outputs": [
    {
     "data": {
      "text/plain": [
       "[Card(rank='2', suit='spades'),\n",
       " Card(rank='3', suit='spades'),\n",
       " Card(rank='4', suit='spades')]"
      ]
     },
     "execution_count": 29,
     "metadata": {},
     "output_type": "execute_result"
    }
   ],
   "source": [
    "deck[:3]"
   ]
  },
  {
   "cell_type": "markdown",
   "metadata": {},
   "source": [
    "nosso baralho também pode ser percorrido em um laço ```for```:"
   ]
  },
  {
   "cell_type": "code",
   "execution_count": 30,
   "metadata": {},
   "outputs": [
    {
     "name": "stdout",
     "output_type": "stream",
     "text": [
      "Card(rank='2', suit='spades')\n",
      "Card(rank='3', suit='spades')\n",
      "Card(rank='4', suit='spades')\n",
      "Card(rank='5', suit='spades')\n",
      "Card(rank='6', suit='spades')\n"
     ]
    }
   ],
   "source": [
    "for card in deck[:5]:\n",
    "    print(card)"
   ]
  },
  {
   "cell_type": "markdown",
   "metadata": {},
   "source": [
    "podemos ordenar nossas cartas a partir da função abaixo:"
   ]
  },
  {
   "cell_type": "code",
   "execution_count": 41,
   "metadata": {},
   "outputs": [],
   "source": [
    "suit_values = dict(spades=3, hearts=2, diamonds=1, clubs=0)\n",
    "\n",
    "def spades_high(card: Card) -> int:\n",
    "    '''\n",
    "    assigns a value to a card according to its rank and suit\n",
    "    the first ordenation is by suit and the second is by rank\n",
    "\n",
    "    i.e we have 2 of clubs as a 0 value card, 2 of diamonds as 1 value card, ...,\n",
    "    3 of clubs as a 4 value card, and 4 of clubs an 8 value card\n",
    "    '''\n",
    "    rank_value = FrenchDeck.ranks.index(card.rank)\n",
    "    return rank_value * len(suit_values) + suit_values[card.suit]"
   ]
  },
  {
   "cell_type": "code",
   "execution_count": 42,
   "metadata": {},
   "outputs": [
    {
     "name": "stdout",
     "output_type": "stream",
     "text": [
      "Card(rank='2', suit='clubs')\n",
      "Card(rank='2', suit='diamonds')\n",
      "Card(rank='2', suit='hearts')\n",
      "Card(rank='2', suit='spades')\n",
      "Card(rank='3', suit='clubs')\n",
      "Card(rank='3', suit='diamonds')\n",
      "Card(rank='3', suit='hearts')\n",
      "Card(rank='3', suit='spades')\n",
      "Card(rank='4', suit='clubs')\n",
      "Card(rank='4', suit='diamonds')\n",
      "Card(rank='4', suit='hearts')\n",
      "Card(rank='4', suit='spades')\n",
      "Card(rank='5', suit='clubs')\n",
      "Card(rank='5', suit='diamonds')\n",
      "Card(rank='5', suit='hearts')\n",
      "Card(rank='5', suit='spades')\n",
      "Card(rank='6', suit='clubs')\n",
      "Card(rank='6', suit='diamonds')\n",
      "Card(rank='6', suit='hearts')\n",
      "Card(rank='6', suit='spades')\n",
      "Card(rank='7', suit='clubs')\n",
      "Card(rank='7', suit='diamonds')\n",
      "Card(rank='7', suit='hearts')\n",
      "Card(rank='7', suit='spades')\n",
      "Card(rank='8', suit='clubs')\n",
      "Card(rank='8', suit='diamonds')\n",
      "Card(rank='8', suit='hearts')\n",
      "Card(rank='8', suit='spades')\n",
      "Card(rank='9', suit='clubs')\n",
      "Card(rank='9', suit='diamonds')\n",
      "Card(rank='9', suit='hearts')\n",
      "Card(rank='9', suit='spades')\n",
      "Card(rank='10', suit='clubs')\n",
      "Card(rank='10', suit='diamonds')\n",
      "Card(rank='10', suit='hearts')\n",
      "Card(rank='10', suit='spades')\n",
      "Card(rank='J', suit='clubs')\n",
      "Card(rank='J', suit='diamonds')\n",
      "Card(rank='J', suit='hearts')\n",
      "Card(rank='J', suit='spades')\n",
      "Card(rank='Q', suit='clubs')\n",
      "Card(rank='Q', suit='diamonds')\n",
      "Card(rank='Q', suit='hearts')\n",
      "Card(rank='Q', suit='spades')\n",
      "Card(rank='K', suit='clubs')\n",
      "Card(rank='K', suit='diamonds')\n",
      "Card(rank='K', suit='hearts')\n",
      "Card(rank='K', suit='spades')\n",
      "Card(rank='A', suit='clubs')\n",
      "Card(rank='A', suit='diamonds')\n",
      "Card(rank='A', suit='hearts')\n",
      "Card(rank='A', suit='spades')\n"
     ]
    }
   ],
   "source": [
    "for card in sorted(deck, key=spades_high):\n",
    "    print(card)"
   ]
  },
  {
   "cell_type": "markdown",
   "metadata": {},
   "source": [
    "### Como os métodos especiais são utilizados"
   ]
  },
  {
   "cell_type": "markdown",
   "metadata": {},
   "source": [
    "Métodos epsciais foram feitos para serem chamados pelo interpratodr Python. Ao invés de escrevermos ```my_object.__len__()```, escrevemos ```len(my_object)``` e, se ```my_object``` é uma insância de uma classe definida pelo usuário, então o Python chama o métodos ```__len__``` que implementamos.\n",
    "\n",
    "Muitas vezes a chamada a um método especial é implícita. Por exemplo, no comando ``` for i in x:``` o interpretador gera uma invocação de ```iter(x)```, que por sua vez pode chamar ```x.__iter()__``` se esse método estiver disponível, ou usar ```x.__getitem__()```, como no exemplo do ```FrenchDeck```. Em condições normais, nosso código não deve conter muitas chamadas diretas a métodos especiais."
   ]
  },
  {
   "cell_type": "markdown",
   "metadata": {},
   "source": [
    "#### Emulando tipos numéricos"
   ]
  },
  {
   "cell_type": "code",
   "execution_count": 58,
   "metadata": {},
   "outputs": [],
   "source": [
    "\"\"\"\n",
    "vector2d.py: a simplistic class demonstrating some special methods\n",
    "\n",
    "It is simplistic for didactic reasons. It lacks proper error handling,\n",
    "especially in the ``__add__`` and ``__mul__`` methods.\n",
    "\n",
    "This example is greatly expanded later in the book.\n",
    "\n",
    "Addition::\n",
    "\n",
    "    >>> v1 = Vector(2, 4)\n",
    "    >>> v2 = Vector(2, 1)\n",
    "    >>> v1 + v2\n",
    "    Vector(4, 5)\n",
    "\n",
    "Absolute value::\n",
    "\n",
    "    >>> v = Vector(3, 4)\n",
    "    >>> abs(v)\n",
    "    5.0\n",
    "\n",
    "Scalar multiplication::\n",
    "\n",
    "    >>> v * 3\n",
    "    Vector(9, 12)\n",
    "    >>> abs(v * 3)\n",
    "    15.0\n",
    "\n",
    "\"\"\"\n",
    "\n",
    "import math\n",
    "\n",
    "class Vector:\n",
    "\n",
    "    def __init__(self,x=0,y=0):\n",
    "        self.x = x\n",
    "        self.y = y\n",
    "\n",
    "    def __repr__(self):\n",
    "        return f\"Vector({self.x!r}, {self.y!r})\"\n",
    "    \n",
    "    def __str__(self):\n",
    "        return \"this is the __str__ representation of Vector\"\n",
    "\n",
    "    def __abs__(self):\n",
    "        return math.hypot(self.x, self.y)\n",
    "    \n",
    "    def __add__(self,other):\n",
    "        x = self.x + other.x\n",
    "        y = self.y + other.y\n",
    "        return Vector(x,y)\n",
    "\n",
    "    def __mul__(self,scalar):\n",
    "        x = self.x * scalar\n",
    "        y = self.y * scalar\n",
    "        return Vector(x,y)\n",
    "    \n",
    "    def __bool__(self):\n",
    "        return bool(self.x or self.y)"
   ]
  },
  {
   "cell_type": "markdown",
   "metadata": {},
   "source": [
    "Implementamos cinco métodos especiais, além do ```__init__()```. Nnehum deles é chamado diretamente dentro da classe ou durante seu uso normal, e sim pelo interpretador Python. Implementamos dois operadores, ```+``` e ```*```, para demonstrar o uso básico de ```__add__``` e ```__mul__```. Nos dois casos, os métodos criam e devolvem uma nova instância de ```Vector```, e não modificam nenhum dos operandos: ```self``` e ```other``` são apenas lidos."
   ]
  },
  {
   "cell_type": "markdown",
   "metadata": {},
   "source": [
    "#### Representação de Strings"
   ]
  },
  {
   "cell_type": "markdown",
   "metadata": {},
   "source": [
    "O método especial ```__repr__``` é chamado pelo ```repr``` embutido para obter a representação do objeto como string, para inspeção. Sem um ```__repr__``` presonalizado, o console do Pytohn mostraria uma instância de ```Vector``` como ```<Vector object at 0x10e100070>```.\n",
    "\n",
    "O console iterativo e o depurador chama ```repr``` para exibir o resultado das expressões. O  ```repr``` também é usado:\n",
    "- Pelo marcador posicional ```%r``` na formatação clássica com o operador ```%```.\n",
    "- Pelo sinalizador de conversão ```!r``` na nova sintaxe de strings de formato usada nas _f-strings_ e no método ```str.format```.\n",
    "\n",
    "O método ```__str__```, por outro lado, é chamado pelo método embutido ```str()``` e usado implicitamente pela função ```print```. Ele deve devolver uma sting apropriada para ser exibida aos usuários finais. Caso vá implementar apenas um dos métodos, opter sempre por implementar ```__repr__```."
   ]
  },
  {
   "cell_type": "code",
   "execution_count": 61,
   "metadata": {},
   "outputs": [
    {
     "name": "stdout",
     "output_type": "stream",
     "text": [
      "this is the __str__ representation of Vector\n",
      "Vector(3, 2)\n"
     ]
    }
   ],
   "source": [
    "print(Vector(3,2)) # python calls Vector.__str__()\n",
    "print(f\"{Vector(3,2)!r}\") # python calls Vector.__repr__()"
   ]
  },
  {
   "cell_type": "markdown",
   "metadata": {},
   "source": [
    "#### O valor booleano de um tipo personalizado"
   ]
  },
  {
   "cell_type": "markdown",
   "metadata": {},
   "source": [
    "Por padrão, instâncias de classes definidas pelo usuário são consideradas verdadeiras, a menos que ```__bool__ ``` ou ```__len__``` estejam implementadas. Basicamente, ```bool(x)``` chama ```x.__bool__()``` e usa o resultado. Se ```__bool__``` não está implementado, o Python tenta invocar ```x.__len__()```, e se esse último devoler zero, ```bool``` devolve ```False```. CAso contrário, ```bool``` devolve ```True```."
   ]
  },
  {
   "cell_type": "code",
   "execution_count": 63,
   "metadata": {},
   "outputs": [
    {
     "name": "stdout",
     "output_type": "stream",
     "text": [
      "True\n",
      "False\n"
     ]
    }
   ],
   "source": [
    "print(bool(Vector(3,2)))\n",
    "print(bool(Vector(0,0)))"
   ]
  },
  {
   "cell_type": "markdown",
   "metadata": {},
   "source": [
    "#### A API de Collection"
   ]
  },
  {
   "cell_type": "markdown",
   "metadata": {},
   "source": [
    "![](Figura2.png)"
   ]
  },
  {
   "cell_type": "markdown",
   "metadata": {},
   "source": [
    "### Visão geral dos métodos especiais"
   ]
  },
  {
   "cell_type": "markdown",
   "metadata": {},
   "source": [
    "![](Tabela1.png)"
   ]
  },
  {
   "cell_type": "markdown",
   "metadata": {},
   "source": [
    "![](Tabela2.png)"
   ]
  },
  {
   "cell_type": "markdown",
   "metadata": {},
   "source": [
    "### Por que len não é um método?"
   ]
  },
  {
   "cell_type": "markdown",
   "metadata": {},
   "source": [
    "Nenhum método é chamado para os objetos embutidos do Cpython: o tamanho é simplesmente lido de um campo em uma struct C. Obter o número de itens em uma coleção é uma operação comum, e precisa funcionar de forma eficiente para tipos tão básicos e diferentes como ```str```, ```list```, ```memoryview```, e assim por diante.\n",
    "\n",
    "Em outras palavras, ```len``` não é chamado como um étodo porque recebe um tratamento especial como parte do Modelo de Dados do Python, da mesma forma que ```abs```. Mas graças ao método especial ```__len__```, também é possível fazer ```len``` funcionar com nossos objetos personalizados. "
   ]
  }
 ],
 "metadata": {
  "kernelspec": {
   "display_name": "Python 3",
   "language": "python",
   "name": "python3"
  },
  "language_info": {
   "codemirror_mode": {
    "name": "ipython",
    "version": 3
   },
   "file_extension": ".py",
   "mimetype": "text/x-python",
   "name": "python",
   "nbconvert_exporter": "python",
   "pygments_lexer": "ipython3",
   "version": "3.10.12"
  }
 },
 "nbformat": 4,
 "nbformat_minor": 2
}
